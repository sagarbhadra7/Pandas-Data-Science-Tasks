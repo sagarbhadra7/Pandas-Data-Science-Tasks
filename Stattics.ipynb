{
  "nbformat": 4,
  "nbformat_minor": 0,
  "metadata": {
    "kernelspec": {
      "display_name": "Python 3",
      "language": "python",
      "name": "python3"
    },
    "language_info": {
      "codemirror_mode": {
        "name": "ipython",
        "version": 3
      },
      "file_extension": ".py",
      "mimetype": "text/x-python",
      "name": "python",
      "nbconvert_exporter": "python",
      "pygments_lexer": "ipython3",
      "version": "3.7.6"
    },
    "colab": {
      "name": "Stattics.ipynb",
      "provenance": [],
      "include_colab_link": true
    }
  },
  "cells": [
    {
      "cell_type": "markdown",
      "metadata": {
        "id": "view-in-github",
        "colab_type": "text"
      },
      "source": [
        "<a href=\"https://colab.research.google.com/github/sagarbhadra7/Pandas-Data-Science-Tasks/blob/master/Stattics.ipynb\" target=\"_parent\"><img src=\"https://colab.research.google.com/assets/colab-badge.svg\" alt=\"Open In Colab\"/></a>"
      ]
    },
    {
      "cell_type": "code",
      "metadata": {
        "id": "kGHVhroQXEHJ",
        "colab_type": "code",
        "colab": {}
      },
      "source": [
        "import pandas as pd\n",
        "import numpy as np\n",
        "import matplotlib.pyplot as plt\n",
        "import seaborn as sns"
      ],
      "execution_count": 0,
      "outputs": []
    },
    {
      "cell_type": "code",
      "metadata": {
        "id": "zdIBMl0iXEHR",
        "colab_type": "code",
        "colab": {},
        "outputId": "838f6e72-a2ed-476d-f22c-400390b7ad55"
      },
      "source": [
        "cd Downloads/"
      ],
      "execution_count": 0,
      "outputs": [
        {
          "output_type": "stream",
          "text": [
            "C:\\Users\\sagar\\Downloads\n"
          ],
          "name": "stdout"
        }
      ]
    },
    {
      "cell_type": "code",
      "metadata": {
        "scrolled": true,
        "id": "i9K5VGeYXEHY",
        "colab_type": "code",
        "colab": {}
      },
      "source": [
        "df_weather=pd.read_csv('weather.csv')"
      ],
      "execution_count": 0,
      "outputs": []
    },
    {
      "cell_type": "code",
      "metadata": {
        "id": "TnyFlBp2XEHb",
        "colab_type": "code",
        "colab": {},
        "outputId": "18bb2032-ac55-465f-c2bf-9e991f3c68f7"
      },
      "source": [
        "df_weather.head()"
      ],
      "execution_count": 0,
      "outputs": [
        {
          "output_type": "execute_result",
          "data": {
            "text/html": [
              "<div>\n",
              "<style scoped>\n",
              "    .dataframe tbody tr th:only-of-type {\n",
              "        vertical-align: middle;\n",
              "    }\n",
              "\n",
              "    .dataframe tbody tr th {\n",
              "        vertical-align: top;\n",
              "    }\n",
              "\n",
              "    .dataframe thead th {\n",
              "        text-align: right;\n",
              "    }\n",
              "</style>\n",
              "<table border=\"1\" class=\"dataframe\">\n",
              "  <thead>\n",
              "    <tr style=\"text-align: right;\">\n",
              "      <th></th>\n",
              "      <th>Date/Time</th>\n",
              "      <th>Temp (C)</th>\n",
              "      <th>Dew Point Temp (C)</th>\n",
              "      <th>Rel Hum (%)</th>\n",
              "      <th>Wind Spd (km/h)</th>\n",
              "      <th>Visibility (km)</th>\n",
              "      <th>Stn Press (kPa)</th>\n",
              "      <th>Weather</th>\n",
              "    </tr>\n",
              "  </thead>\n",
              "  <tbody>\n",
              "    <tr>\n",
              "      <th>0</th>\n",
              "      <td>2012-01-01 00:00:00</td>\n",
              "      <td>-1.8</td>\n",
              "      <td>-3.9</td>\n",
              "      <td>86</td>\n",
              "      <td>4</td>\n",
              "      <td>8.0</td>\n",
              "      <td>101.24</td>\n",
              "      <td>Fog</td>\n",
              "    </tr>\n",
              "    <tr>\n",
              "      <th>1</th>\n",
              "      <td>2012-01-01 01:00:00</td>\n",
              "      <td>-1.8</td>\n",
              "      <td>-3.7</td>\n",
              "      <td>87</td>\n",
              "      <td>4</td>\n",
              "      <td>8.0</td>\n",
              "      <td>101.24</td>\n",
              "      <td>Fog</td>\n",
              "    </tr>\n",
              "    <tr>\n",
              "      <th>2</th>\n",
              "      <td>2012-01-01 02:00:00</td>\n",
              "      <td>-1.8</td>\n",
              "      <td>-3.4</td>\n",
              "      <td>89</td>\n",
              "      <td>7</td>\n",
              "      <td>4.0</td>\n",
              "      <td>101.26</td>\n",
              "      <td>Freezing Drizzle,Fog</td>\n",
              "    </tr>\n",
              "    <tr>\n",
              "      <th>3</th>\n",
              "      <td>2012-01-01 03:00:00</td>\n",
              "      <td>-1.5</td>\n",
              "      <td>-3.2</td>\n",
              "      <td>88</td>\n",
              "      <td>6</td>\n",
              "      <td>4.0</td>\n",
              "      <td>101.27</td>\n",
              "      <td>Freezing Drizzle,Fog</td>\n",
              "    </tr>\n",
              "    <tr>\n",
              "      <th>4</th>\n",
              "      <td>2012-01-01 04:00:00</td>\n",
              "      <td>-1.5</td>\n",
              "      <td>-3.3</td>\n",
              "      <td>88</td>\n",
              "      <td>7</td>\n",
              "      <td>4.8</td>\n",
              "      <td>101.23</td>\n",
              "      <td>Fog</td>\n",
              "    </tr>\n",
              "  </tbody>\n",
              "</table>\n",
              "</div>"
            ],
            "text/plain": [
              "             Date/Time  Temp (C)  Dew Point Temp (C)  Rel Hum (%)  \\\n",
              "0  2012-01-01 00:00:00      -1.8                -3.9           86   \n",
              "1  2012-01-01 01:00:00      -1.8                -3.7           87   \n",
              "2  2012-01-01 02:00:00      -1.8                -3.4           89   \n",
              "3  2012-01-01 03:00:00      -1.5                -3.2           88   \n",
              "4  2012-01-01 04:00:00      -1.5                -3.3           88   \n",
              "\n",
              "   Wind Spd (km/h)  Visibility (km)  Stn Press (kPa)               Weather  \n",
              "0                4              8.0           101.24                   Fog  \n",
              "1                4              8.0           101.24                   Fog  \n",
              "2                7              4.0           101.26  Freezing Drizzle,Fog  \n",
              "3                6              4.0           101.27  Freezing Drizzle,Fog  \n",
              "4                7              4.8           101.23                   Fog  "
            ]
          },
          "metadata": {
            "tags": []
          },
          "execution_count": 7
        }
      ]
    },
    {
      "cell_type": "code",
      "metadata": {
        "id": "KoDaohAxXEHg",
        "colab_type": "code",
        "colab": {},
        "outputId": "a4abdb8f-042e-4319-dfc9-2053be0c3c1d"
      },
      "source": [
        "df_weather.columns"
      ],
      "execution_count": 0,
      "outputs": [
        {
          "output_type": "execute_result",
          "data": {
            "text/plain": [
              "Index(['Date/Time', 'Temp (C)', 'Dew Point Temp (C)', 'Rel Hum (%)',\n",
              "       'Wind Spd (km/h)', 'Visibility (km)', 'Stn Press (kPa)', 'Weather'],\n",
              "      dtype='object')"
            ]
          },
          "metadata": {
            "tags": []
          },
          "execution_count": 8
        }
      ]
    },
    {
      "cell_type": "code",
      "metadata": {
        "id": "6DKQeYJzXEHl",
        "colab_type": "code",
        "colab": {},
        "outputId": "cfe2d07c-5638-4f91-9122-61a92f6161e2"
      },
      "source": [
        "df_weather.isnull().sum()"
      ],
      "execution_count": 0,
      "outputs": [
        {
          "output_type": "execute_result",
          "data": {
            "text/plain": [
              "Date/Time             0\n",
              "Temp (C)              0\n",
              "Dew Point Temp (C)    0\n",
              "Rel Hum (%)           0\n",
              "Wind Spd (km/h)       0\n",
              "Visibility (km)       0\n",
              "Stn Press (kPa)       0\n",
              "Weather               0\n",
              "dtype: int64"
            ]
          },
          "metadata": {
            "tags": []
          },
          "execution_count": 10
        }
      ]
    },
    {
      "cell_type": "code",
      "metadata": {
        "id": "a03vhyBAXEHq",
        "colab_type": "code",
        "colab": {},
        "outputId": "d492af1d-5aac-49ff-90ab-dda76da1c434"
      },
      "source": [
        "weather_Visibility_mean=df_weather['Visibility (km)'].mean()\n",
        "print(weather_Visibility_mean)"
      ],
      "execution_count": 0,
      "outputs": [
        {
          "output_type": "stream",
          "text": [
            "27.66444672131151\n"
          ],
          "name": "stdout"
        }
      ]
    },
    {
      "cell_type": "code",
      "metadata": {
        "id": "FfPzL2OsXEHw",
        "colab_type": "code",
        "colab": {},
        "outputId": "ffb91284-506a-4d23-a261-c80fc3e3b94e"
      },
      "source": [
        "weather_Visibility_median=df_weather['Visibility (km)'].median()\n",
        "print(weather_Visibility_median)"
      ],
      "execution_count": 0,
      "outputs": [
        {
          "output_type": "stream",
          "text": [
            "25.0\n"
          ],
          "name": "stdout"
        }
      ]
    },
    {
      "cell_type": "code",
      "metadata": {
        "id": "35bKEp6wXEHz",
        "colab_type": "code",
        "colab": {}
      },
      "source": [
        "Dew Point Temp (C)"
      ],
      "execution_count": 0,
      "outputs": []
    },
    {
      "cell_type": "code",
      "metadata": {
        "id": "wfrds-L5XEH5",
        "colab_type": "code",
        "colab": {},
        "outputId": "5ff13848-6c19-4a6d-8ac8-f1eb14f7a122"
      },
      "source": [
        "weather_due_point_mean=df_weather['Dew Point Temp (C)'].mean()\n",
        "print(weather_due_point_mean)"
      ],
      "execution_count": 0,
      "outputs": [
        {
          "output_type": "stream",
          "text": [
            "2.555293715847001\n"
          ],
          "name": "stdout"
        }
      ]
    },
    {
      "cell_type": "code",
      "metadata": {
        "id": "X6DMU03nXEH9",
        "colab_type": "code",
        "colab": {},
        "outputId": "c3505665-f24a-48fd-810f-1d8840b27783"
      },
      "source": [
        "weather_due_point_median=df_weather['Dew Point Temp (C)'].median()\n",
        "print(weather_due_point_median)"
      ],
      "execution_count": 0,
      "outputs": [
        {
          "output_type": "stream",
          "text": [
            "3.3\n"
          ],
          "name": "stdout"
        }
      ]
    },
    {
      "cell_type": "code",
      "metadata": {
        "id": "95NyzSGdXEIB",
        "colab_type": "code",
        "colab": {},
        "outputId": "178d4f32-b056-479f-b1ae-5aaec6f9b0af"
      },
      "source": [
        "weather_Weather_mode=df_weather['Weather'].mode()\n",
        "print(weather_Weather_mode)"
      ],
      "execution_count": 0,
      "outputs": [
        {
          "output_type": "stream",
          "text": [
            "0    Mainly Clear\n",
            "dtype: object\n"
          ],
          "name": "stdout"
        }
      ]
    },
    {
      "cell_type": "code",
      "metadata": {
        "id": "bwRCtYPxXEIE",
        "colab_type": "code",
        "colab": {},
        "outputId": "b92acd98-ae35-4866-8f52-65ecff938411"
      },
      "source": [
        "\n",
        "df_weather['Wind Spd (km/h)'].hist()"
      ],
      "execution_count": 0,
      "outputs": [
        {
          "output_type": "execute_result",
          "data": {
            "text/plain": [
              "<matplotlib.axes._subplots.AxesSubplot at 0x22f5bb56988>"
            ]
          },
          "metadata": {
            "tags": []
          },
          "execution_count": 20
        },
        {
          "output_type": "display_data",
          "data": {
            "image/png": "[encoded data removed]",
            "text/plain": [
              "<Figure size 432x288 with 1 Axes>"
            ]
          },
          "metadata": {
            "tags": [],
            "needs_background": "light"
          }
        }
      ]
    },
    {
      "cell_type": "code",
      "metadata": {
        "id": "W1JVQcjyXEII",
        "colab_type": "code",
        "colab": {},
        "outputId": "063f32a8-06b3-439f-ccdb-c9d7a7d9ed70"
      },
      "source": [
        "df_weather['Temp (C)'].hist()"
      ],
      "execution_count": 0,
      "outputs": [
        {
          "output_type": "execute_result",
          "data": {
            "text/plain": [
              "<matplotlib.axes._subplots.AxesSubplot at 0x22f5bf7e288>"
            ]
          },
          "metadata": {
            "tags": []
          },
          "execution_count": 21
        },
        {
          "output_type": "display_data",
          "data": {
            "image/png": "[encoded data removed]",
            "text/plain": [
              "<Figure size 432x288 with 1 Axes>"
            ]
          },
          "metadata": {
            "tags": [],
            "needs_background": "light"
          }
        }
      ]
    },
    {
      "cell_type": "code",
      "metadata": {
        "id": "zsO9QufeXEIM",
        "colab_type": "code",
        "colab": {},
        "outputId": "36d5a937-3f67-42a2-ce08-72a457c98b6c"
      },
      "source": [
        "plt.subplot(1,2,1)\n",
        "df_weather['Temp (C)'].hist()\n",
        "plt.subplot(1,2,2)\n",
        "df_weather['Wind Spd (km/h)'].hist()\n",
        "plt.show()"
      ],
      "execution_count": 0,
      "outputs": [
        {
          "output_type": "display_data",
          "data": {
            "image/png": "[encoded data removed]",
            "text/plain": [
              "<Figure size 432x288 with 2 Axes>"
            ]
          },
          "metadata": {
            "tags": [],
            "needs_background": "light"
          }
        }
      ]
    },
    {
      "cell_type": "code",
      "metadata": {
        "id": "9hW01xnrXEIQ",
        "colab_type": "code",
        "colab": {},
        "outputId": "0c286a0d-9741-4d38-cf70-13e26357c1fd"
      },
      "source": [
        "df_weather.head()"
      ],
      "execution_count": 0,
      "outputs": [
        {
          "output_type": "execute_result",
          "data": {
            "text/html": [
              "<div>\n",
              "<style scoped>\n",
              "    .dataframe tbody tr th:only-of-type {\n",
              "        vertical-align: middle;\n",
              "    }\n",
              "\n",
              "    .dataframe tbody tr th {\n",
              "        vertical-align: top;\n",
              "    }\n",
              "\n",
              "    .dataframe thead th {\n",
              "        text-align: right;\n",
              "    }\n",
              "</style>\n",
              "<table border=\"1\" class=\"dataframe\">\n",
              "  <thead>\n",
              "    <tr style=\"text-align: right;\">\n",
              "      <th></th>\n",
              "      <th>Date/Time</th>\n",
              "      <th>Temp (C)</th>\n",
              "      <th>Dew Point Temp (C)</th>\n",
              "      <th>Rel Hum (%)</th>\n",
              "      <th>Wind Spd (km/h)</th>\n",
              "      <th>Visibility (km)</th>\n",
              "      <th>Stn Press (kPa)</th>\n",
              "      <th>Weather</th>\n",
              "    </tr>\n",
              "  </thead>\n",
              "  <tbody>\n",
              "    <tr>\n",
              "      <th>0</th>\n",
              "      <td>2012-01-01 00:00:00</td>\n",
              "      <td>-1.8</td>\n",
              "      <td>-3.9</td>\n",
              "      <td>86</td>\n",
              "      <td>4</td>\n",
              "      <td>8.0</td>\n",
              "      <td>101.24</td>\n",
              "      <td>Fog</td>\n",
              "    </tr>\n",
              "    <tr>\n",
              "      <th>1</th>\n",
              "      <td>2012-01-01 01:00:00</td>\n",
              "      <td>-1.8</td>\n",
              "      <td>-3.7</td>\n",
              "      <td>87</td>\n",
              "      <td>4</td>\n",
              "      <td>8.0</td>\n",
              "      <td>101.24</td>\n",
              "      <td>Fog</td>\n",
              "    </tr>\n",
              "    <tr>\n",
              "      <th>2</th>\n",
              "      <td>2012-01-01 02:00:00</td>\n",
              "      <td>-1.8</td>\n",
              "      <td>-3.4</td>\n",
              "      <td>89</td>\n",
              "      <td>7</td>\n",
              "      <td>4.0</td>\n",
              "      <td>101.26</td>\n",
              "      <td>Freezing Drizzle,Fog</td>\n",
              "    </tr>\n",
              "    <tr>\n",
              "      <th>3</th>\n",
              "      <td>2012-01-01 03:00:00</td>\n",
              "      <td>-1.5</td>\n",
              "      <td>-3.2</td>\n",
              "      <td>88</td>\n",
              "      <td>6</td>\n",
              "      <td>4.0</td>\n",
              "      <td>101.27</td>\n",
              "      <td>Freezing Drizzle,Fog</td>\n",
              "    </tr>\n",
              "    <tr>\n",
              "      <th>4</th>\n",
              "      <td>2012-01-01 04:00:00</td>\n",
              "      <td>-1.5</td>\n",
              "      <td>-3.3</td>\n",
              "      <td>88</td>\n",
              "      <td>7</td>\n",
              "      <td>4.8</td>\n",
              "      <td>101.23</td>\n",
              "      <td>Fog</td>\n",
              "    </tr>\n",
              "  </tbody>\n",
              "</table>\n",
              "</div>"
            ],
            "text/plain": [
              "             Date/Time  Temp (C)  Dew Point Temp (C)  Rel Hum (%)  \\\n",
              "0  2012-01-01 00:00:00      -1.8                -3.9           86   \n",
              "1  2012-01-01 01:00:00      -1.8                -3.7           87   \n",
              "2  2012-01-01 02:00:00      -1.8                -3.4           89   \n",
              "3  2012-01-01 03:00:00      -1.5                -3.2           88   \n",
              "4  2012-01-01 04:00:00      -1.5                -3.3           88   \n",
              "\n",
              "   Wind Spd (km/h)  Visibility (km)  Stn Press (kPa)               Weather  \n",
              "0                4              8.0           101.24                   Fog  \n",
              "1                4              8.0           101.24                   Fog  \n",
              "2                7              4.0           101.26  Freezing Drizzle,Fog  \n",
              "3                6              4.0           101.27  Freezing Drizzle,Fog  \n",
              "4                7              4.8           101.23                   Fog  "
            ]
          },
          "metadata": {
            "tags": []
          },
          "execution_count": 26
        }
      ]
    },
    {
      "cell_type": "code",
      "metadata": {
        "id": "RjplJmyAXEIX",
        "colab_type": "code",
        "colab": {}
      },
      "source": [
        "df_weather['Month']=pd.to_datetime(df_weather['Date/Time']).dt.month"
      ],
      "execution_count": 0,
      "outputs": []
    },
    {
      "cell_type": "code",
      "metadata": {
        "id": "5ZwHMXf6XEIb",
        "colab_type": "code",
        "colab": {},
        "outputId": "3853fb1c-f61c-41d7-9483-fdc6eecdb448"
      },
      "source": [
        "pd.to_datetime(df_weather['Date/Time']).dt.month"
      ],
      "execution_count": 0,
      "outputs": [
        {
          "output_type": "execute_result",
          "data": {
            "text/plain": [
              "0        1\n",
              "1        1\n",
              "2        1\n",
              "3        1\n",
              "4        1\n",
              "        ..\n",
              "8779    12\n",
              "8780    12\n",
              "8781    12\n",
              "8782    12\n",
              "8783    12\n",
              "Name: Date/Time, Length: 8784, dtype: int64"
            ]
          },
          "metadata": {
            "tags": []
          },
          "execution_count": 33
        }
      ]
    },
    {
      "cell_type": "code",
      "metadata": {
        "id": "5VdQdoDVXEIe",
        "colab_type": "code",
        "colab": {},
        "outputId": "cc3af037-4f30-466c-9607-8089a6c5a27f"
      },
      "source": [
        "df_weather.head()"
      ],
      "execution_count": 0,
      "outputs": [
        {
          "output_type": "execute_result",
          "data": {
            "text/html": [
              "<div>\n",
              "<style scoped>\n",
              "    .dataframe tbody tr th:only-of-type {\n",
              "        vertical-align: middle;\n",
              "    }\n",
              "\n",
              "    .dataframe tbody tr th {\n",
              "        vertical-align: top;\n",
              "    }\n",
              "\n",
              "    .dataframe thead th {\n",
              "        text-align: right;\n",
              "    }\n",
              "</style>\n",
              "<table border=\"1\" class=\"dataframe\">\n",
              "  <thead>\n",
              "    <tr style=\"text-align: right;\">\n",
              "      <th></th>\n",
              "      <th>Date/Time</th>\n",
              "      <th>Temp (C)</th>\n",
              "      <th>Dew Point Temp (C)</th>\n",
              "      <th>Rel Hum (%)</th>\n",
              "      <th>Wind Spd (km/h)</th>\n",
              "      <th>Visibility (km)</th>\n",
              "      <th>Stn Press (kPa)</th>\n",
              "      <th>Weather</th>\n",
              "      <th>Month</th>\n",
              "    </tr>\n",
              "  </thead>\n",
              "  <tbody>\n",
              "    <tr>\n",
              "      <th>0</th>\n",
              "      <td>2012-01-01 00:00:00</td>\n",
              "      <td>-1.8</td>\n",
              "      <td>-3.9</td>\n",
              "      <td>86</td>\n",
              "      <td>4</td>\n",
              "      <td>8.0</td>\n",
              "      <td>101.24</td>\n",
              "      <td>Fog</td>\n",
              "      <td>1</td>\n",
              "    </tr>\n",
              "    <tr>\n",
              "      <th>1</th>\n",
              "      <td>2012-01-01 01:00:00</td>\n",
              "      <td>-1.8</td>\n",
              "      <td>-3.7</td>\n",
              "      <td>87</td>\n",
              "      <td>4</td>\n",
              "      <td>8.0</td>\n",
              "      <td>101.24</td>\n",
              "      <td>Fog</td>\n",
              "      <td>1</td>\n",
              "    </tr>\n",
              "    <tr>\n",
              "      <th>2</th>\n",
              "      <td>2012-01-01 02:00:00</td>\n",
              "      <td>-1.8</td>\n",
              "      <td>-3.4</td>\n",
              "      <td>89</td>\n",
              "      <td>7</td>\n",
              "      <td>4.0</td>\n",
              "      <td>101.26</td>\n",
              "      <td>Freezing Drizzle,Fog</td>\n",
              "      <td>1</td>\n",
              "    </tr>\n",
              "    <tr>\n",
              "      <th>3</th>\n",
              "      <td>2012-01-01 03:00:00</td>\n",
              "      <td>-1.5</td>\n",
              "      <td>-3.2</td>\n",
              "      <td>88</td>\n",
              "      <td>6</td>\n",
              "      <td>4.0</td>\n",
              "      <td>101.27</td>\n",
              "      <td>Freezing Drizzle,Fog</td>\n",
              "      <td>1</td>\n",
              "    </tr>\n",
              "    <tr>\n",
              "      <th>4</th>\n",
              "      <td>2012-01-01 04:00:00</td>\n",
              "      <td>-1.5</td>\n",
              "      <td>-3.3</td>\n",
              "      <td>88</td>\n",
              "      <td>7</td>\n",
              "      <td>4.8</td>\n",
              "      <td>101.23</td>\n",
              "      <td>Fog</td>\n",
              "      <td>1</td>\n",
              "    </tr>\n",
              "  </tbody>\n",
              "</table>\n",
              "</div>"
            ],
            "text/plain": [
              "             Date/Time  Temp (C)  Dew Point Temp (C)  Rel Hum (%)  \\\n",
              "0  2012-01-01 00:00:00      -1.8                -3.9           86   \n",
              "1  2012-01-01 01:00:00      -1.8                -3.7           87   \n",
              "2  2012-01-01 02:00:00      -1.8                -3.4           89   \n",
              "3  2012-01-01 03:00:00      -1.5                -3.2           88   \n",
              "4  2012-01-01 04:00:00      -1.5                -3.3           88   \n",
              "\n",
              "   Wind Spd (km/h)  Visibility (km)  Stn Press (kPa)               Weather  \\\n",
              "0                4              8.0           101.24                   Fog   \n",
              "1                4              8.0           101.24                   Fog   \n",
              "2                7              4.0           101.26  Freezing Drizzle,Fog   \n",
              "3                6              4.0           101.27  Freezing Drizzle,Fog   \n",
              "4                7              4.8           101.23                   Fog   \n",
              "\n",
              "   Month  \n",
              "0      1  \n",
              "1      1  \n",
              "2      1  \n",
              "3      1  \n",
              "4      1  "
            ]
          },
          "metadata": {
            "tags": []
          },
          "execution_count": 35
        }
      ]
    },
    {
      "cell_type": "code",
      "metadata": {
        "id": "NVbutUgeXEIh",
        "colab_type": "code",
        "colab": {}
      },
      "source": [
        "df_weather_due=df_weather.groupby(df_weather['Month'])['Dew Point Temp (C)']"
      ],
      "execution_count": 0,
      "outputs": []
    },
    {
      "cell_type": "code",
      "metadata": {
        "id": "qUZKUes4XEIk",
        "colab_type": "code",
        "colab": {},
        "outputId": "a0e7a467-86b6-4902-b039-66df6b6b6487"
      },
      "source": [
        "df_weather_due"
      ],
      "execution_count": 0,
      "outputs": [
        {
          "output_type": "execute_result",
          "data": {
            "text/plain": [
              "<pandas.core.groupby.generic.SeriesGroupBy object at 0x0000022F5C3B60C8>"
            ]
          },
          "metadata": {
            "tags": []
          },
          "execution_count": 42
        }
      ]
    },
    {
      "cell_type": "code",
      "metadata": {
        "id": "q9XmDF-RXEIq",
        "colab_type": "code",
        "colab": {},
        "outputId": "253becfc-984a-432f-fd77-da27ead5ae4b"
      },
      "source": [
        "plt.box(df_weather.groupby(df_weather['Month']))"
      ],
      "execution_count": 0,
      "outputs": [
        {
          "output_type": "display_data",
          "data": {
            "image/png": "[encoded data removed]",
            "text/plain": [
              "<Figure size 432x288 with 1 Axes>"
            ]
          },
          "metadata": {
            "tags": [],
            "needs_background": "light"
          }
        }
      ]
    },
    {
      "cell_type": "code",
      "metadata": {
        "id": "svc2NwMdXEIu",
        "colab_type": "code",
        "colab": {},
        "outputId": "f02b2905-3296-4cd2-b857-99c1b604971b"
      },
      "source": [
        "df_weather.boxplot(column=['Dew Point Temp (C)'],by=['Month'],figsize=(15,15))"
      ],
      "execution_count": 0,
      "outputs": [
        {
          "output_type": "execute_result",
          "data": {
            "text/plain": [
              "<matplotlib.axes._subplots.AxesSubplot at 0x22f5c6e2c88>"
            ]
          },
          "metadata": {
            "tags": []
          },
          "execution_count": 50
        },
        {
          "output_type": "display_data",
          "data": {
            "image/png": "[encoded data removed]",
            "text/plain": [
              "<Figure size 1080x1080 with 1 Axes>"
            ]
          },
          "metadata": {
            "tags": [],
            "needs_background": "light"
          }
        }
      ]
    },
    {
      "cell_type": "code",
      "metadata": {
        "id": "925tJ5PZXEIx",
        "colab_type": "code",
        "colab": {},
        "outputId": "98e16818-81be-480f-e0d8-6bbfb8d45da3"
      },
      "source": [
        "df_weather_due_var=df_weather['Dew Point Temp (C)'].var()\n",
        "print(df_weather_due_var)"
      ],
      "execution_count": 0,
      "outputs": [
        {
          "output_type": "stream",
          "text": [
            "118.44126310397384\n"
          ],
          "name": "stdout"
        }
      ]
    },
    {
      "cell_type": "code",
      "metadata": {
        "id": "2DCfaxJRXEI1",
        "colab_type": "code",
        "colab": {},
        "outputId": "8ae7c42d-123e-4e83-f4ab-c8e5989c2223"
      },
      "source": [
        "df_weather_due_std=df_weather['Dew Point Temp (C)'].std()\n",
        "print(df_weather_due_std)"
      ],
      "execution_count": 0,
      "outputs": [
        {
          "output_type": "stream",
          "text": [
            "10.883072319155737\n"
          ],
          "name": "stdout"
        }
      ]
    },
    {
      "cell_type": "code",
      "metadata": {
        "id": "K88JU73nXEI6",
        "colab_type": "code",
        "colab": {},
        "outputId": "4307db28-0f23-4a54-bbef-723c01ca477c"
      },
      "source": [
        "df_weather.corr()"
      ],
      "execution_count": 0,
      "outputs": [
        {
          "output_type": "execute_result",
          "data": {
            "text/html": [
              "<div>\n",
              "<style scoped>\n",
              "    .dataframe tbody tr th:only-of-type {\n",
              "        vertical-align: middle;\n",
              "    }\n",
              "\n",
              "    .dataframe tbody tr th {\n",
              "        vertical-align: top;\n",
              "    }\n",
              "\n",
              "    .dataframe thead th {\n",
              "        text-align: right;\n",
              "    }\n",
              "</style>\n",
              "<table border=\"1\" class=\"dataframe\">\n",
              "  <thead>\n",
              "    <tr style=\"text-align: right;\">\n",
              "      <th></th>\n",
              "      <th>Temp (C)</th>\n",
              "      <th>Dew Point Temp (C)</th>\n",
              "      <th>Rel Hum (%)</th>\n",
              "      <th>Wind Spd (km/h)</th>\n",
              "      <th>Visibility (km)</th>\n",
              "      <th>Stn Press (kPa)</th>\n",
              "      <th>Month</th>\n",
              "    </tr>\n",
              "  </thead>\n",
              "  <tbody>\n",
              "    <tr>\n",
              "      <th>Temp (C)</th>\n",
              "      <td>1.000000</td>\n",
              "      <td>0.932714</td>\n",
              "      <td>-0.220182</td>\n",
              "      <td>-0.061876</td>\n",
              "      <td>0.273455</td>\n",
              "      <td>-0.236389</td>\n",
              "      <td>0.218048</td>\n",
              "    </tr>\n",
              "    <tr>\n",
              "      <th>Dew Point Temp (C)</th>\n",
              "      <td>0.932714</td>\n",
              "      <td>1.000000</td>\n",
              "      <td>0.139494</td>\n",
              "      <td>-0.095685</td>\n",
              "      <td>0.050813</td>\n",
              "      <td>-0.320616</td>\n",
              "      <td>0.299641</td>\n",
              "    </tr>\n",
              "    <tr>\n",
              "      <th>Rel Hum (%)</th>\n",
              "      <td>-0.220182</td>\n",
              "      <td>0.139494</td>\n",
              "      <td>1.000000</td>\n",
              "      <td>-0.092743</td>\n",
              "      <td>-0.633683</td>\n",
              "      <td>-0.231424</td>\n",
              "      <td>0.232040</td>\n",
              "    </tr>\n",
              "    <tr>\n",
              "      <th>Wind Spd (km/h)</th>\n",
              "      <td>-0.061876</td>\n",
              "      <td>-0.095685</td>\n",
              "      <td>-0.092743</td>\n",
              "      <td>1.000000</td>\n",
              "      <td>0.004883</td>\n",
              "      <td>-0.356613</td>\n",
              "      <td>-0.030506</td>\n",
              "    </tr>\n",
              "    <tr>\n",
              "      <th>Visibility (km)</th>\n",
              "      <td>0.273455</td>\n",
              "      <td>0.050813</td>\n",
              "      <td>-0.633683</td>\n",
              "      <td>0.004883</td>\n",
              "      <td>1.000000</td>\n",
              "      <td>0.231847</td>\n",
              "      <td>-0.027314</td>\n",
              "    </tr>\n",
              "    <tr>\n",
              "      <th>Stn Press (kPa)</th>\n",
              "      <td>-0.236389</td>\n",
              "      <td>-0.320616</td>\n",
              "      <td>-0.231424</td>\n",
              "      <td>-0.356613</td>\n",
              "      <td>0.231847</td>\n",
              "      <td>1.000000</td>\n",
              "      <td>0.070355</td>\n",
              "    </tr>\n",
              "    <tr>\n",
              "      <th>Month</th>\n",
              "      <td>0.218048</td>\n",
              "      <td>0.299641</td>\n",
              "      <td>0.232040</td>\n",
              "      <td>-0.030506</td>\n",
              "      <td>-0.027314</td>\n",
              "      <td>0.070355</td>\n",
              "      <td>1.000000</td>\n",
              "    </tr>\n",
              "  </tbody>\n",
              "</table>\n",
              "</div>"
            ],
            "text/plain": [
              "                    Temp (C)  Dew Point Temp (C)  Rel Hum (%)  \\\n",
              "Temp (C)            1.000000            0.932714    -0.220182   \n",
              "Dew Point Temp (C)  0.932714            1.000000     0.139494   \n",
              "Rel Hum (%)        -0.220182            0.139494     1.000000   \n",
              "Wind Spd (km/h)    -0.061876           -0.095685    -0.092743   \n",
              "Visibility (km)     0.273455            0.050813    -0.633683   \n",
              "Stn Press (kPa)    -0.236389           -0.320616    -0.231424   \n",
              "Month               0.218048            0.299641     0.232040   \n",
              "\n",
              "                    Wind Spd (km/h)  Visibility (km)  Stn Press (kPa)  \\\n",
              "Temp (C)                  -0.061876         0.273455        -0.236389   \n",
              "Dew Point Temp (C)        -0.095685         0.050813        -0.320616   \n",
              "Rel Hum (%)               -0.092743        -0.633683        -0.231424   \n",
              "Wind Spd (km/h)            1.000000         0.004883        -0.356613   \n",
              "Visibility (km)            0.004883         1.000000         0.231847   \n",
              "Stn Press (kPa)           -0.356613         0.231847         1.000000   \n",
              "Month                     -0.030506        -0.027314         0.070355   \n",
              "\n",
              "                       Month  \n",
              "Temp (C)            0.218048  \n",
              "Dew Point Temp (C)  0.299641  \n",
              "Rel Hum (%)         0.232040  \n",
              "Wind Spd (km/h)    -0.030506  \n",
              "Visibility (km)    -0.027314  \n",
              "Stn Press (kPa)     0.070355  \n",
              "Month               1.000000  "
            ]
          },
          "metadata": {
            "tags": []
          },
          "execution_count": 55
        }
      ]
    },
    {
      "cell_type": "code",
      "metadata": {
        "id": "LOrgfPPnXEI-",
        "colab_type": "code",
        "colab": {},
        "outputId": "d21fa587-10c8-46eb-e321-f36cc92440e1"
      },
      "source": [
        "sns.heatmap(df_weather.corr())"
      ],
      "execution_count": 0,
      "outputs": [
        {
          "output_type": "execute_result",
          "data": {
            "text/plain": [
              "<matplotlib.axes._subplots.AxesSubplot at 0x22f5ff4cac8>"
            ]
          },
          "metadata": {
            "tags": []
          },
          "execution_count": 57
        },
        {
          "output_type": "display_data",
          "data": {
            "image/png": "[encoded data removed]",
            "text/plain": [
              "<Figure size 432x288 with 2 Axes>"
            ]
          },
          "metadata": {
            "tags": [],
            "needs_background": "light"
          }
        }
      ]
    },
    {
      "cell_type": "code",
      "metadata": {
        "id": "uQNRXJh9XEJB",
        "colab_type": "code",
        "colab": {}
      },
      "source": [
        ""
      ],
      "execution_count": 0,
      "outputs": []
    }
  ]
}